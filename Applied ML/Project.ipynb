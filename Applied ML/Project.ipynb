{
 "cells": [
  {
   "cell_type": "markdown",
   "metadata": {},
   "source": [
    "## 0. Описание"
   ]
  },
  {
   "cell_type": "markdown",
   "metadata": {},
   "source": [
    "Представим, что мы снова являемся аналитиками в маленькой инди-студии разработки игр **<em>HuracanoGames</em>**. Мы прекрасно понимаем, что важно сделать качественно не только игру, но и её страницу в магазине, в котором она будет продаваться. Поскольку игра планирует запускаться в [Steam](https://store.steampowered.com/), хотелось бы понять настроения юзеров данной платформы и по имеющимся уже описанием игр составить классификатор, который определил бы, хорошо составлено описание новой игры."
   ]
  },
  {
   "cell_type": "markdown",
   "metadata": {},
   "source": [
    "## 1. Получение данных"
   ]
  },
  {
   "cell_type": "markdown",
   "metadata": {},
   "source": [
    "##### Библиотеки"
   ]
  },
  {
   "cell_type": "code",
   "execution_count": 3,
   "metadata": {},
   "outputs": [
    {
     "name": "stderr",
     "output_type": "stream",
     "text": [
      "/home/wrongwizzli/anaconda3/envs/torch/lib/python3.9/site-packages/scipy/__init__.py:146: UserWarning: A NumPy version >=1.16.5 and <1.23.0 is required for this version of SciPy (detected version 1.23.4\n",
      "  warnings.warn(f\"A NumPy version >={np_minversion} and <{np_maxversion}\"\n",
      "/home/wrongwizzli/anaconda3/envs/torch/lib/python3.9/site-packages/tqdm/auto.py:22: TqdmWarning: IProgress not found. Please update jupyter and ipywidgets. See https://ipywidgets.readthedocs.io/en/stable/user_install.html\n",
      "  from .autonotebook import tqdm as notebook_tqdm\n"
     ]
    }
   ],
   "source": [
    "# System / utils\n",
    "import os\n",
    "import sys\n",
    "import shutil\n",
    "import gc\n",
    "from multiprocessing.dummy import Pool as ThreadPool\n",
    "from threading import Lock\n",
    "\n",
    "from IPython.display import clear_output\n",
    "from tqdm import tqdm\n",
    "\n",
    "# Data retrieve \n",
    "from bs4 import BeautifulSoup\n",
    "import requests\n",
    "import re\n",
    "\n",
    "# Data processing\n",
    "from glob import glob\n",
    "import json\n",
    "import nltk\n",
    "from nltk.corpus import stopwords, wordnet\n",
    "import numpy as np\n",
    "import pandas as pd\n",
    "import matplotlib.pyplot as plt\n",
    "from PIL import Image\n",
    "import datetime\n",
    "\n",
    "# ML/DL\n",
    "import catboost\n",
    "from catboost import CatBoostClassifier, CatBoostRegressor\n",
    "\n",
    "from sklearn.feature_extraction.text import TfidfVectorizer\n",
    "from sklearn.model_selection import KFold\n",
    "from sklearn.neighbors import KNeighborsClassifier, KNeighborsRegressor\n",
    "from sklearn.decomposition import PCA\n",
    "\n",
    "import torch\n",
    "from torchmetrics import ConfusionMatrix\n"
   ]
  },
  {
   "cell_type": "code",
   "execution_count": 2,
   "metadata": {},
   "outputs": [
    {
     "data": {
      "text/plain": [
       "'cuda'"
      ]
     },
     "execution_count": 2,
     "metadata": {},
     "output_type": "execute_result"
    }
   ],
   "source": [
    "device = \"cpu\"\n",
    "if torch.cuda.is_available():\n",
    "    device = \"cuda\"\n",
    "device"
   ]
  },
  {
   "cell_type": "code",
   "execution_count": 3,
   "metadata": {},
   "outputs": [],
   "source": [
    "config = json.load(open(\"config.json\", \"r\"))"
   ]
  },
  {
   "cell_type": "code",
   "execution_count": 4,
   "metadata": {},
   "outputs": [],
   "source": [
    "# nltk.download('stopwords')\n",
    "# nltk.download(\"wordnet\")\n",
    "# nltk.download(\"wordnet2021\")\n",
    "# nltk.download(\"omw-1.4\")"
   ]
  },
  {
   "cell_type": "markdown",
   "metadata": {},
   "source": [
    "##### Вытащим данные при помощи запросов по URL"
   ]
  },
  {
   "cell_type": "code",
   "execution_count": 5,
   "metadata": {},
   "outputs": [],
   "source": [
    "# Utility block. Multiple request to the given url\n",
    "lock = Lock()\n",
    "def multi_request(path, repeats=5, headers=None):\n",
    "    for i in range(repeats):\n",
    "        if headers is not None:\n",
    "            req = requests.get(path, headers=headers, stream=True)\n",
    "        else:\n",
    "            req = requests.get(path)\n",
    "        if req.status_code // 100 == 2:\n",
    "            break\n",
    "    if req.status_code // 100 != 2:\n",
    "        return None\n",
    "    return req"
   ]
  },
  {
   "cell_type": "code",
   "execution_count": 6,
   "metadata": {},
   "outputs": [],
   "source": [
    "# Parse html page of single game on Steam\n",
    "def page_parser(ans):\n",
    "    soup = BeautifulSoup(ans.text, 'html.parser')\n",
    "    game_info = {\n",
    "        'url': ans.url,\n",
    "    }\n",
    "    \n",
    "    # Title\n",
    "    name = soup.find('div', id=\"appHubAppName\", class_=\"apphub_AppName\")\n",
    "    if name is not None:\n",
    "        game_info['name'] = name.text\n",
    "        \n",
    "    # Review status\n",
    "    review = soup.find('div', class_=\"user_reviews_summary_row\", itemprop=\"aggregateRating\")\n",
    "    if review is not None:\n",
    "        review_score = review.find('span', class_=\"nonresponsive_hidden responsive_reviewdesc\")\n",
    "        if review_score is not None:\n",
    "            scores = re.findall('(\\d+)%', review_score.text.strip())\n",
    "            if len(scores) > 0:\n",
    "                game_info['score_review'] = scores[0]\n",
    "        review_count = review.find('meta', itemprop='reviewCount')\n",
    "        if review_count is not None and review_count.has_attr('content'):\n",
    "            game_info['vote_number'] = review_count['content']\n",
    "        review_steam_rating = review.find('meta', itemprop='ratingValue')\n",
    "        if review_steam_rating is not None and review_steam_rating.has_attr('content'):\n",
    "            game_info['steam_rating'] = review_steam_rating['content']\n",
    "\n",
    "    # User tags\n",
    "    user_tags = soup.find('div', class_=\"glance_tags_ctn popular_tags_ctn\")\n",
    "    if user_tags is not None:\n",
    "        user_tags = user_tags.find_all('a', class_='app_tag')\n",
    "        game_info['user_tags'] = [tag.text.strip() for tag in user_tags]\n",
    "\n",
    "    # Developers\n",
    "    developers = soup.find('div', id=\"developers_list\")\n",
    "    if developers is not None:\n",
    "        developers = developers.find_all('a')\n",
    "        game_info['developers'] = [dev.text.strip() for dev in developers]\n",
    "\n",
    "    # Is DLC\n",
    "    dlc_info = soup.find(\"div\", class_=\"game_area_bubble game_area_dlc_bubble\")\n",
    "    game_info['is_dlc'] = dlc_info is not None\n",
    "\n",
    "    # Release date\n",
    "    date = soup.find('div', class_=\"release_date\")\n",
    "    if date is not None:\n",
    "        date = date.find('div', class_=\"date\")\n",
    "        if date is not None:\n",
    "            game_info['release_date'] = date.text.strip()\n",
    "\n",
    "    # Developers labels\n",
    "    dev_labels = soup.find('div', class_=\"block responsive_apppage_details_left\")\n",
    "    if dev_labels is not None:\n",
    "        labels = dev_labels.find_all('div', class_='label')\n",
    "        game_info['dev_tags'] = [label.text.strip() for label in labels]\n",
    "\n",
    "    # Developers genres\n",
    "    dev_genres = soup.find('div', id=\"genresAndManufacturer\")\n",
    "    if dev_genres is not None:\n",
    "        dev_genres = dev_genres.find('span', {\"data-panel\": '{\"flow-children\":\"row\"}'})\n",
    "        if dev_genres is not None:\n",
    "            genres = dev_genres.find_all('a')\n",
    "            game_info['dev_genres'] = [dev_genre.text for dev_genre in genres]\n",
    "    \n",
    "    # Languages\n",
    "    languages = soup.find('div', class_=\"block responsive_apppage_details_right\")\n",
    "    if languages is not None:\n",
    "        languages = languages.find_all('td', class_=\"ellipsis\")\n",
    "        game_info['languages'] = [language.text.strip() for language in languages]\n",
    "    \n",
    "    # Price\n",
    "    price = soup.find(\"div\", class_=\"discount_original_price\")\n",
    "    if price is None:\n",
    "        price = soup.find(\"div\", class_=\"game_purchase_price price\")\n",
    "    if price is not None:\n",
    "        price = price.text.strip()\n",
    "        re_price = re.search(\"\\d+\", price)\n",
    "        if re_price is not None:\n",
    "            game_info['price'] = re_price.group(0)\n",
    "        elif \"free\" in price.lower():\n",
    "            game_info['price'] = \"0\"\n",
    "            \n",
    "    \n",
    "    # Game information\n",
    "    game_info['description'] = ''\n",
    "    description = soup.find('div', id='game_area_description')\n",
    "    if description is not None:\n",
    "        clean_description = re.sub('<.*?>', '', description.text)\n",
    "        clean_text = re.sub('\\s+', ' ', clean_description).strip()\n",
    "        game_info['description'] = clean_text\n",
    "    \n",
    "    save_name = game_info['name'].replace(' ', '_').replace('/','_')\n",
    "    \n",
    "    # Header image\n",
    "    header_image = soup.find('img', class_='game_header_image_full')\n",
    "    if header_image is not None:\n",
    "        img_url = header_image['src']\n",
    "        image_ans = multi_request(img_url)\n",
    "        if image_ans is not None:\n",
    "            with open(f\"header_images/{save_name}.jpg\", \"wb\") as f:\n",
    "                f.write(image_ans.content)\n",
    "        \n",
    "    # First game screenshot image\n",
    "    first_screenshot_image = soup.find('div', id='highlight_strip_scroll')\n",
    "    if first_screenshot_image is not None:\n",
    "        image = first_screenshot_image.find_next('div', class_='highlight_strip_item highlight_strip_screenshot')\n",
    "        if image is not None:\n",
    "            image = image.find(\"img\")\n",
    "            if image is not None:\n",
    "                image_url = image['src']\n",
    "                image_url = image_url.replace(\"116x65\", \"600x338\")\n",
    "                image_ans = multi_request(image_url)\n",
    "                if image_ans is not None:\n",
    "                    with open(f\"first_screens/{save_name}.jpg\", \"wb\") as f:\n",
    "                        f.write(image_ans.content)\n",
    "        \n",
    "    return game_info"
   ]
  },
  {
   "cell_type": "code",
   "execution_count": 7,
   "metadata": {},
   "outputs": [],
   "source": [
    "# Get urls of 6000 latest rogue-likes\n",
    "urls = []\n",
    "# for i in tqdm(range(0, 6000, 100)):\n",
    "#     ans = multi_request(f\"https://store.steampowered.com/search/results/?query&start={i}&count={i+100}&dynamic_data=&sort_by=Released_DESC&tags=42804&snr=1_7_7_240_7&infinite=1\")\n",
    "#     answer = re.sub(r'\\\\', '', ans.text)\n",
    "#     urls += re.findall('\"(https://store.steampowered.com/app.+?)\"', answer)"
   ]
  },
  {
   "cell_type": "code",
   "execution_count": 8,
   "metadata": {},
   "outputs": [],
   "source": [
    "# Utility function that requests for Steam page and saves the result of processing\n",
    "def proceed_page(url):\n",
    "    # if url is None:\n",
    "    #     with lock:\n",
    "    #         print('Url is incorrect', file=sys.stderr)\n",
    "    #     return None\n",
    "    # ans = multi_request(url)\n",
    "    # if ans is None:\n",
    "    #     with lock:\n",
    "    #         print(f'Page cannot be reached with web-address: {url}')\n",
    "    #     return None\n",
    "    # page = page_parser(ans)\n",
    "    \n",
    "    # # require './jsons_roguelikes' folder. Uncomment if you have one and need to save .json files\n",
    "    # try:\n",
    "    #     with open('./jsons_roguelikes/' + page['name'].replace(' ', '_').replace('/','_') + '.json', 'w') as out:\n",
    "    #         json.dump(page, out, indent=1)\n",
    "    # except Exception as e:\n",
    "    #     pass\n",
    "    # return page\n",
    "    pass\n",
    "\n",
    "with ThreadPool(10) as pool:\n",
    "    pages = pool.map(proceed_page, urls)"
   ]
  },
  {
   "cell_type": "markdown",
   "metadata": {},
   "source": [
    "## 2. Проверка полученных данных"
   ]
  },
  {
   "cell_type": "markdown",
   "metadata": {},
   "source": [
    "##### Посчитаем кол-во извлеченных полей"
   ]
  },
  {
   "cell_type": "code",
   "execution_count": 9,
   "metadata": {},
   "outputs": [
    {
     "data": {
      "text/plain": [
       "1737"
      ]
     },
     "execution_count": 9,
     "metadata": {},
     "output_type": "execute_result"
    }
   ],
   "source": [
    "json_file_names = sorted(glob(\"jsons_roguelikes/*\"))\n",
    "len(json_file_names)"
   ]
  },
  {
   "cell_type": "code",
   "execution_count": 10,
   "metadata": {},
   "outputs": [
    {
     "name": "stderr",
     "output_type": "stream",
     "text": [
      "100%|██████████| 1737/1737 [00:00<00:00, 5021.90it/s]\n"
     ]
    },
    {
     "data": {
      "text/plain": [
       "{'url': 1737,\n",
       " 'name': 1737,\n",
       " 'score_review': 953,\n",
       " 'low_scored': 465,\n",
       " 'vote_number': 1440,\n",
       " 'steam_rating': 1440,\n",
       " 'user_tags': 1737,\n",
       " 'developers': 1735,\n",
       " 'is_dlc': 1737,\n",
       " 'release_date': 1735,\n",
       " 'dev_tags': 1737,\n",
       " 'dev_genres': 1734,\n",
       " 'languages': 1734,\n",
       " 'price': 1542,\n",
       " 'description': 1737,\n",
       " 'high_scored': 488}"
      ]
     },
     "execution_count": 10,
     "metadata": {},
     "output_type": "execute_result"
    }
   ],
   "source": [
    "result = {}\n",
    "for jname in tqdm(json_file_names):\n",
    "    game_data = json.load(open(jname, \"r\"))\n",
    "    for key in game_data.keys():\n",
    "        if key not in result:\n",
    "            result[key] = 0\n",
    "        if key == \"score_review\" and \"vote_number\" in game_data:\n",
    "            if int(game_data[key]) >= 84:\n",
    "                if \"high_scored\" not in result:\n",
    "                    result[\"high_scored\"] = 0\n",
    "                result[\"high_scored\"] += 1\n",
    "            else:\n",
    "                if \"low_scored\" not in result:\n",
    "                    result[\"low_scored\"] = 0\n",
    "                result[\"low_scored\"] += 1\n",
    "        result[key] += 1\n",
    "result"
   ]
  },
  {
   "cell_type": "markdown",
   "metadata": {},
   "source": [
    "##### Визуализируем распределение отзывов"
   ]
  },
  {
   "cell_type": "code",
   "execution_count": 11,
   "metadata": {},
   "outputs": [],
   "source": [
    "json_file_names = sorted(glob(\"jsons_roguelikes/*\"))"
   ]
  },
  {
   "cell_type": "code",
   "execution_count": 12,
   "metadata": {},
   "outputs": [
    {
     "name": "stderr",
     "output_type": "stream",
     "text": [
      "100%|██████████| 1737/1737 [00:00<00:00, 31396.28it/s]\n"
     ]
    }
   ],
   "source": [
    "# Show median of score reviews\n",
    "reviews = []\n",
    "for jname in tqdm(json_file_names):\n",
    "    game_data = json.load(open(jname, \"r\"))\n",
    "    if 'score_review' in game_data.keys():\n",
    "        reviews.append(int(game_data[\"score_review\"]))"
   ]
  },
  {
   "cell_type": "code",
   "execution_count": 13,
   "metadata": {},
   "outputs": [
    {
     "data": {
      "image/png": "[encoded data removed]",
      "text/plain": [
       "<Figure size 432x288 with 1 Axes>"
      ]
     },
     "metadata": {
      "needs_background": "light"
     },
     "output_type": "display_data"
    }
   ],
   "source": [
    "# Build plot\n",
    "plt.hist(reviews, bins=35)\n",
    "plt.plot([np.median(reviews), np.median(reviews)], [0, 100])\n",
    "plt.text(np.median(reviews) - 25, 95, f\"Median value: {int(np.median(reviews))}\")\n",
    "plt.ylim(0, 100)\n",
    "plt.ylabel(\"number of scores\", fontsize=14)\n",
    "plt.xlabel(\"score bins\", fontsize=14)\n",
    "plt.savefig(\"score_review_distribution.png\", dpi=200, bbox_inches='tight')"
   ]
  },
  {
   "cell_type": "markdown",
   "metadata": {},
   "source": [
    "##### Визуализируем пропущенные значения по датам"
   ]
  },
  {
   "cell_type": "markdown",
   "metadata": {},
   "source": [
    "Будем рассматривать только поля `score_review` и `vote_number`. `steam_rating` существует тогда, когда существует `vote_number`, поэтому их распределение будет одинаковым. Остальные поля же не пусты от слова совсем (кроме выбросов)"
   ]
  },
  {
   "cell_type": "code",
   "execution_count": 14,
   "metadata": {},
   "outputs": [],
   "source": [
    "# Utility date parser block\n",
    "# 🌠 and 🦇 and even more strange dates inside, so date parser is not so trivial\n",
    "months = ['jan', 'feb', 'mar', 'apr', 'may', 'jun', 'jul', 'aug', 'sep', 'oct', 'nov', 'dec']\n",
    "\n",
    "\n",
    "def parse_quarter(str_date: str):\n",
    "    quarter = re.search('q\\d', str_date)\n",
    "    if quarter is None:\n",
    "        return str_date\n",
    "    q_number = int(str_date[quarter.end() - 1])\n",
    "    q_month = \"feb\"\n",
    "    if q_number == 2:\n",
    "        q_month = \"may\"\n",
    "    if q_number == 3:\n",
    "        q_month = \"aug\"\n",
    "    if q_number == 4:\n",
    "        q_month = \"nov\"\n",
    "    return re.sub('q\\d', q_month, str_date)\n",
    "\n",
    "\n",
    "def try_fit_formats(str_date: str):\n",
    "    for fmt in (\"%d %b, %Y\", \"%b %Y\", \"%B %Y\", \"%Y\"):\n",
    "        try:\n",
    "            formatted_date = datetime.datetime.strptime(str_date, fmt)\n",
    "            return formatted_date.date()\n",
    "        except ValueError as err:\n",
    "            continue\n",
    "    return None\n",
    "\n",
    "\n",
    "def clean_str_date(str_date: str):\n",
    "    year = None\n",
    "    re_year = re.search(\"\\d\\d\\d\\d\", str_date)\n",
    "    if re_year is not None:\n",
    "        year = str_date[re_year.start():re_year.end()]\n",
    "    if year is None:\n",
    "        return str_date\n",
    "\n",
    "    month = \"jan\"\n",
    "    for mon in months:\n",
    "        if mon in str_date:\n",
    "            month = mon\n",
    "            break\n",
    "    return \" \".join([month, year]) \n",
    "    \n",
    "\n",
    "def format_date(str_date: str):\n",
    "    str_date = parse_quarter(str_date.lower())\n",
    "    \n",
    "    date = try_fit_formats(str_date)\n",
    "    if date is not None:\n",
    "        return date\n",
    "    \n",
    "    str_date = clean_str_date(str_date)\n",
    "    date = try_fit_formats(str_date)\n",
    "    if date is not None:\n",
    "        return date\n",
    "\n",
    "    if \"coming soon\" in str_date or \"to be announced\" in str_date or \"tba\" in str_date or \"development\" in str_date:\n",
    "        return datetime.date(2024, 1, 1)\n",
    "    raise ValueError(f\"Too incorrect release date: \\\"{str_date}\\\"\")"
   ]
  },
  {
   "cell_type": "code",
   "execution_count": 15,
   "metadata": {},
   "outputs": [],
   "source": [
    "json_file_names = sorted(glob(\"jsons_roguelikes/*\"))"
   ]
  },
  {
   "cell_type": "code",
   "execution_count": 16,
   "metadata": {},
   "outputs": [
    {
     "name": "stderr",
     "output_type": "stream",
     "text": [
      "100%|██████████| 1737/1737 [00:00<00:00, 17207.19it/s]"
     ]
    },
    {
     "name": "stdout",
     "output_type": "stream",
     "text": [
      "Too incorrect release date: \"when the workday is over\"\n",
      "Too incorrect release date: \"add to wishlist and follow not to miss it!\"\n",
      "Too incorrect release date: \"when it's ready. wishlist now!\"\n",
      "Too incorrect release date: \"coming\"\n",
      "Too incorrect release date: \"when it's ready\"\n"
     ]
    },
    {
     "name": "stderr",
     "output_type": "stream",
     "text": [
      "\n"
     ]
    }
   ],
   "source": [
    "# Count score_review, vote_number and names\n",
    "sr_by_date = {}\n",
    "vn_by_date = {}\n",
    "name_by_date = {}\n",
    "\n",
    "date_l_thresh = datetime.date(2012, 1, 1)\n",
    "date_h_thresh = datetime.date.today()\n",
    "for jname in tqdm(json_file_names):\n",
    "    game_data = json.load(open(jname, \"r\"))\n",
    "    if not ('release_date' in game_data.keys()):\n",
    "        continue\n",
    "    try:\n",
    "        formatted_date = format_date(game_data['release_date'])\n",
    "    except ValueError as err:\n",
    "        print(err)\n",
    "        formatted_date = datetime.date(2024, 1, 1)\n",
    "    if formatted_date < date_l_thresh:\n",
    "        continue\n",
    "    if formatted_date >= date_h_thresh:\n",
    "        formatted_date = datetime.date(2023, 1, 1)\n",
    "    if 'score_review' in game_data.keys():\n",
    "        if formatted_date not in sr_by_date.keys():\n",
    "            sr_by_date[formatted_date] = 0\n",
    "        sr_by_date[formatted_date] += 1\n",
    "    if 'vote_number' in game_data.keys():\n",
    "        if formatted_date not in vn_by_date.keys():\n",
    "            vn_by_date[formatted_date] = 0\n",
    "        vn_by_date[formatted_date] += 1\n",
    "    if formatted_date not in name_by_date.keys():\n",
    "        name_by_date[formatted_date] = 0\n",
    "    name_by_date[formatted_date] += 1"
   ]
  },
  {
   "cell_type": "code",
   "execution_count": 17,
   "metadata": {},
   "outputs": [],
   "source": [
    "# Sort values and get X|Y for plot\n",
    "sorted_sr = sorted(sr_by_date.items())\n",
    "dates_sr = [key_val[0] for key_val in sorted_sr]\n",
    "releases_sr = [key_val[1] for key_val in sorted_sr]\n",
    "df_sr = pd.DataFrame({\"n_releases\": releases_sr}, index=pd.to_datetime(dates_sr))\n",
    "\n",
    "sorted_vn = sorted(vn_by_date.items())\n",
    "dates_vn = [key_val[0] for key_val in sorted_vn]\n",
    "releases_vn = [key_val[1] for key_val in sorted_vn]\n",
    "df_vn = pd.DataFrame({\"n_releases\": releases_vn}, index=pd.to_datetime(dates_vn))\n",
    "\n",
    "sorted_name = sorted(name_by_date.items())\n",
    "dates_name = [key_val[0] for key_val in sorted_name]\n",
    "releases_name = [key_val[1] for key_val in sorted_name]\n",
    "df_name = pd.DataFrame({\"n_releases\": releases_name}, index=pd.to_datetime(dates_name))"
   ]
  },
  {
   "cell_type": "code",
   "execution_count": 18,
   "metadata": {},
   "outputs": [],
   "source": [
    "# Group by month\n",
    "df_name = df_name.groupby(pd.Grouper(freq='M')).agg('sum')\n",
    "df_vn = df_vn.groupby(pd.Grouper(freq='M')).agg('sum')\n",
    "df_sr = df_sr.groupby(pd.Grouper(freq='M')).agg('sum')"
   ]
  },
  {
   "cell_type": "code",
   "execution_count": 19,
   "metadata": {},
   "outputs": [
    {
     "data": {
      "image/png": "[encoded data removed]",
      "text/plain": [
       "<Figure size 1296x432 with 1 Axes>"
      ]
     },
     "metadata": {
      "needs_background": "light"
     },
     "output_type": "display_data"
    }
   ],
   "source": [
    "# Build plot\n",
    "plt.figure(figsize=(18, 6))\n",
    "y_cap = df_name[\"n_releases\"].max()\n",
    "plt.xlabel(\"date\", fontsize=14)\n",
    "plt.ylabel(\"number of games\", fontsize=14)\n",
    "plt.bar(df_name.index.date, df_name[\"n_releases\"], width=24)\n",
    "plt.bar(df_vn.index.date, df_vn[\"n_releases\"], width=24)\n",
    "plt.bar(df_sr.index.date, df_sr[\"n_releases\"], width=24)\n",
    "plt.legend(['all_game_number', 'vote_number', 'score_review'])\n",
    "plt.ylim(0, y_cap + 1)\n",
    "plt.xlim(df_name.index.date[0], df_name.index.date[-1] + datetime.timedelta(days=14))\n",
    "plt.savefig(\"sr_vn_distribution.png\", dpi=200, bbox_inches='tight')"
   ]
  },
  {
   "cell_type": "code",
   "execution_count": null,
   "metadata": {},
   "outputs": [],
   "source": []
  },
  {
   "cell_type": "markdown",
   "metadata": {},
   "source": [
    "## 3. Предобработка данных"
   ]
  },
  {
   "cell_type": "markdown",
   "metadata": {},
   "source": [
    "#### Отберем в отдельную папку JSON файлы, в которых нет пропущенных значений"
   ]
  },
  {
   "cell_type": "code",
   "execution_count": 20,
   "metadata": {},
   "outputs": [],
   "source": [
    "json_file_names = sorted(glob(\"jsons_roguelikes/*\"))"
   ]
  },
  {
   "cell_type": "code",
   "execution_count": 21,
   "metadata": {},
   "outputs": [],
   "source": [
    "fields = [\"score_review\", \"name\", \"release_date\", \"price\", \"languages\", \"dev_genres\", \"description\", \"dev_tags\"]"
   ]
  },
  {
   "cell_type": "code",
   "execution_count": 22,
   "metadata": {},
   "outputs": [
    {
     "name": "stderr",
     "output_type": "stream",
     "text": [
      "100%|██████████| 1737/1737 [00:00<00:00, 31804.16it/s]\n"
     ]
    }
   ],
   "source": [
    "# Get all JSON names without missing fields\n",
    "full_jsons = []\n",
    "non_missing_data = []\n",
    "for jname in tqdm(json_file_names):\n",
    "    game_data = json.load(open(jname, \"r\"))\n",
    "    if game_data[\"is_dlc\"]:\n",
    "        continue\n",
    "    field_availability = [field in game_data.keys() for field in fields]\n",
    "    if len(field_availability) == sum(field_availability):\n",
    "        non_missing_data.append(game_data)\n",
    "        full_jsons.append(jname)"
   ]
  },
  {
   "cell_type": "code",
   "execution_count": 23,
   "metadata": {},
   "outputs": [],
   "source": [
    "# Copy full jsons to another folder\n",
    "for jname in full_jsons:\n",
    "    short_name = jname.split(\"/\")[-1]\n",
    "    shutil.copyfile(jname, os.path.join(\"jsons_full\", short_name))"
   ]
  },
  {
   "cell_type": "code",
   "execution_count": 24,
   "metadata": {},
   "outputs": [
    {
     "name": "stderr",
     "output_type": "stream",
     "text": [
      "100%|██████████| 928/928 [00:00<00:00, 225353.99it/s]\n"
     ]
    }
   ],
   "source": [
    "# Preprocess list params\n",
    "set_genres, set_langs, set_tags = set(), set(), set()\n",
    "for i in tqdm(range(len(non_missing_data))):\n",
    "    for genre in non_missing_data[i][\"dev_genres\"]:\n",
    "        set_genres.add(genre)\n",
    "    for lang in non_missing_data[i][\"languages\"]:\n",
    "        set_langs.add(lang)\n",
    "    for tag in non_missing_data[i][\"dev_tags\"]:\n",
    "        set_tags.add(tag)"
   ]
  },
  {
   "cell_type": "code",
   "execution_count": 25,
   "metadata": {},
   "outputs": [],
   "source": [
    "unique_genres = sorted(list(set_genres))\n",
    "unique_langs = sorted(list(set_langs))\n",
    "unique_tags = sorted(list(set_tags))"
   ]
  },
  {
   "cell_type": "code",
   "execution_count": 26,
   "metadata": {},
   "outputs": [],
   "source": [
    "# Build complex field mappers\n",
    "genre_mapper = dict(zip(unique_genres, np.arange(len(unique_genres))))\n",
    "langs_mapper = dict(zip(unique_langs, np.arange(len(unique_langs))))\n",
    "tags_mapper = dict(zip(unique_tags, np.arange(len(unique_tags))))"
   ]
  },
  {
   "cell_type": "markdown",
   "metadata": {},
   "source": [
    "##### Разделим выборку на обучение/валидацию"
   ]
  },
  {
   "cell_type": "markdown",
   "metadata": {},
   "source": [
    "Разделим данные на обучающую и валидационную выборки"
   ]
  },
  {
   "cell_type": "code",
   "execution_count": 27,
   "metadata": {},
   "outputs": [],
   "source": [
    "def generate_fold(kf, json_names):\n",
    "    for (train_index, test_index) in kf.split(json_names):\n",
    "        jsons_train = [json_names[i] for i in train_index]\n",
    "        jsons_test = [json_names[i] for i in test_index]\n",
    "        yield jsons_train, jsons_test\n",
    "kf = KFold(n_splits=4, shuffle=True)"
   ]
  },
  {
   "cell_type": "code",
   "execution_count": 28,
   "metadata": {},
   "outputs": [],
   "source": [
    "json_file_names_full = sorted(glob(\"jsons_full/*\"))\n",
    "generator = generate_fold(kf, json_file_names_full)"
   ]
  },
  {
   "cell_type": "code",
   "execution_count": 29,
   "metadata": {},
   "outputs": [],
   "source": [
    "jsons_train, jsons_test = next(generator)"
   ]
  },
  {
   "cell_type": "code",
   "execution_count": 30,
   "metadata": {},
   "outputs": [],
   "source": [
    "data_train, data_test = [], []\n",
    "for jname in jsons_train:\n",
    "    game_data = json.load(open(jname, \"r\"))\n",
    "    data_train.append(game_data)\n",
    "for jname in jsons_test:\n",
    "    game_data = json.load(open(jname, \"r\"))\n",
    "    data_test.append(game_data)"
   ]
  },
  {
   "cell_type": "markdown",
   "metadata": {},
   "source": [
    "#### Предобработаем сырые JSON файлы"
   ]
  },
  {
   "cell_type": "code",
   "execution_count": 85,
   "metadata": {},
   "outputs": [
    {
     "name": "stderr",
     "output_type": "stream",
     "text": [
      "100%|██████████| 696/696 [00:00<00:00, 147525.55it/s]\n"
     ]
    }
   ],
   "source": [
    "# Preprocess train data\n",
    "score_review_train = [int(d[\"score_review\"]) for d in data_train]\n",
    "names_train = [d[\"name\"] for d in data_train]\n",
    "names_len_train = [len(d[\"name\"].split()) for d in data_train]\n",
    "descriptions_train = [d[\"description\"] for d in data_train]\n",
    "descriptions_len_train = [len(desc.split()) for desc in descriptions_train]\n",
    "prices_train = [int(d[\"price\"]) for d in data_train]\n",
    "release_dates_train = [format_date(d[\"release_date\"]) for d in data_train]\n",
    "\n",
    "genres_train, langs_train, tags_train = [], [], []\n",
    "for i in tqdm(range(len(data_train))):\n",
    "    genres_train.append([0] * len(unique_genres))\n",
    "    langs_train.append([0] * len(unique_langs))\n",
    "    tags_train.append([0] * len(unique_tags))\n",
    "    for genre in data_train[i][\"dev_genres\"]:\n",
    "        genres_train[i][genre_mapper[genre]] = 1\n",
    "    for lang in data_train[i][\"languages\"]:\n",
    "        langs_train[i][langs_mapper[lang]] = 1\n",
    "    for tag in data_train[i][\"dev_tags\"]:\n",
    "        tags_train[i][tags_mapper[tag]] = 1"
   ]
  },
  {
   "cell_type": "code",
   "execution_count": 86,
   "metadata": {},
   "outputs": [
    {
     "name": "stderr",
     "output_type": "stream",
     "text": [
      "100%|██████████| 232/232 [00:00<00:00, 128239.13it/s]\n"
     ]
    }
   ],
   "source": [
    "# Preprocess test data\n",
    "score_review_test = [int(d[\"score_review\"]) for d in data_test]\n",
    "names_test = [d[\"name\"] for d in data_test]\n",
    "names_len_test = [len(d[\"name\"].split()) for d in data_train]\n",
    "descriptions_test = [d[\"description\"] for d in data_test]\n",
    "descriptions_len_test = [len(desc.split()) for desc in descriptions_test]\n",
    "prices_test = [int(d[\"price\"]) for d in data_test]\n",
    "release_dates_test = [format_date(d[\"release_date\"]) for d in data_test]\n",
    "\n",
    "genres_test, langs_test, tags_test = [], [], []\n",
    "for i in tqdm(range(len(data_test))):\n",
    "    genres_test.append([0] * len(unique_genres))\n",
    "    langs_test.append([0] * len(unique_langs))\n",
    "    tags_test.append([0] * len(unique_tags))\n",
    "    for genre in data_test[i][\"dev_genres\"]:\n",
    "        genres_test[i][genre_mapper[genre]] = 1\n",
    "    for lang in data_test[i][\"languages\"]:\n",
    "        langs_test[i][langs_mapper[lang]] = 1\n",
    "    for tag in data_train[i][\"dev_tags\"]:\n",
    "        tags_test[i][tags_mapper[tag]] = 1"
   ]
  },
  {
   "cell_type": "markdown",
   "metadata": {},
   "source": [
    "Удалим контрольные слова, пунктуацию из описания"
   ]
  },
  {
   "cell_type": "code",
   "execution_count": 33,
   "metadata": {},
   "outputs": [],
   "source": [
    "# Remove stop words and punctuation from descriptions\n",
    "stop_words = set(stopwords.words('english'))\n",
    "new_descr_train, new_descr_test = [], []\n",
    "for description in descriptions_train:\n",
    "    description = description.lower()\n",
    "    description = re.sub(r'[^\\d\\w\\s]', '', description)\n",
    "    clean_description = \"\"\n",
    "    for word in description.split():\n",
    "        if word not in stop_words:\n",
    "            clean_description += word + \" \"\n",
    "    new_descr_train.append(clean_description[:-1])\n",
    "for description in descriptions_test:\n",
    "    description = description.lower()\n",
    "    description = re.sub(r'[^\\d\\w\\s]', '', description)\n",
    "    clean_description = \"\"\n",
    "    for word in description.split():\n",
    "        if word not in stop_words:\n",
    "            clean_description += word + \" \"\n",
    "    new_descr_test.append(clean_description[:-1])\n",
    "descriptions_train = new_descr_train\n",
    "descriptions_test = new_descr_test"
   ]
  },
  {
   "cell_type": "code",
   "execution_count": 34,
   "metadata": {},
   "outputs": [],
   "source": [
    "# Count number of words after cleaning description\n",
    "descriptions_clean_len_train = [len(desc.split()) for desc in descriptions_train]\n",
    "descriptions_clean_len_test = [len(desc.split()) for desc in descriptions_test]"
   ]
  },
  {
   "cell_type": "markdown",
   "metadata": {},
   "source": [
    "Обработаем даты"
   ]
  },
  {
   "cell_type": "code",
   "execution_count": 35,
   "metadata": {},
   "outputs": [],
   "source": [
    "# Transform release date\n",
    "year_2005 = datetime.date(2005, 1, 1)\n",
    "releases_dates_train = [(dt - year_2005).days for dt in release_dates_train]\n",
    "releases_dates_test = [(dt - year_2005).days for dt in release_dates_test]"
   ]
  },
  {
   "cell_type": "markdown",
   "metadata": {},
   "source": [
    "#### Применим TF-IDF к текстовым данным"
   ]
  },
  {
   "cell_type": "markdown",
   "metadata": {},
   "source": [
    "Произведем аугментацию описаний игр через синонимичные замены"
   ]
  },
  {
   "cell_type": "code",
   "execution_count": 36,
   "metadata": {},
   "outputs": [
    {
     "name": "stderr",
     "output_type": "stream",
     "text": [
      "100%|██████████| 696/696 [00:02<00:00, 291.37it/s]\n"
     ]
    }
   ],
   "source": [
    "proba_aug = 0.2\n",
    "new_descriptions = []\n",
    "for description in tqdm(descriptions_train):\n",
    "    new_words = []\n",
    "    for word in description.split(\" \"):\n",
    "        new_word = word\n",
    "        if np.random.uniform(0, 1) < proba_aug:\n",
    "            synonyms = wordnet.synsets(word)\n",
    "            if len(synonyms) > 0:\n",
    "                synonyms = synonyms[0].lemma_names()\n",
    "                new_word = synonyms[np.random.randint(0, len(synonyms))]\n",
    "        new_words.append(new_word)\n",
    "    new_descriptions.append(\" \".join(new_words))"
   ]
  },
  {
   "cell_type": "code",
   "execution_count": 37,
   "metadata": {},
   "outputs": [],
   "source": [
    "# Preprocess texts with tf-idf\n",
    "tf_idf_name = TfidfVectorizer(max_features=20)\n",
    "tf_idf_description = TfidfVectorizer(max_features=300)\n",
    "tf_idf_name.fit(names_train)\n",
    "tf_idf_description.fit(descriptions_train + new_descriptions)\n",
    "\n",
    "names_train = tf_idf_name.transform(names_train).toarray()\n",
    "names_test = tf_idf_name.transform(names_test).toarray()\n",
    "descriptions_train = tf_idf_description.transform(descriptions_train).toarray()\n",
    "new_descriptions = tf_idf_description.transform(new_descriptions).toarray()\n",
    "descriptions_test = tf_idf_description.transform(descriptions_test).toarray()"
   ]
  },
  {
   "cell_type": "markdown",
   "metadata": {},
   "source": [
    "#### Построим CNN для изображений и обучим её"
   ]
  },
  {
   "cell_type": "code",
   "execution_count": 38,
   "metadata": {},
   "outputs": [],
   "source": [
    "# Setup FCN model\n",
    "class SimpleFCN(torch.nn.Module):\n",
    "    def __init__(self):\n",
    "        super(SimpleFCN, self).__init__()\n",
    "        self.fcn = torch.nn.Sequential(\n",
    "            torch.nn.Conv2d(3, 16, 3),\n",
    "            torch.nn.ReLU(),\n",
    "            torch.nn.BatchNorm2d(16),\n",
    "            torch.nn.MaxPool2d(2),\n",
    "            torch.nn.Conv2d(16, 32, 3),\n",
    "            torch.nn.ReLU(),\n",
    "            torch.nn.BatchNorm2d(32),\n",
    "            torch.nn.MaxPool2d(2),\n",
    "            torch.nn.Conv2d(32, 64, 3),\n",
    "            torch.nn.BatchNorm2d(64),\n",
    "            torch.nn.ReLU(),\n",
    "            torch.nn.AdaptiveAvgPool2d(3),\n",
    "            torch.nn.Flatten(),\n",
    "            torch.nn.Linear(576, 200),\n",
    "            torch.nn.Dropout(0.3),\n",
    "            torch.nn.ReLU(),\n",
    "            torch.nn.Linear(200, 50),\n",
    "            torch.nn.Dropout(0.2),\n",
    "            torch.nn.ReLU(),\n",
    "            torch.nn.Linear(50, 10),\n",
    "            torch.nn.ReLU()\n",
    "        )\n",
    "    \n",
    "    def forward(self, X):\n",
    "        return self.fcn(X)\n",
    "        \n",
    "class TwoInputCNN(torch.nn.Module):\n",
    "    def __init__(self):\n",
    "        super(TwoInputCNN, self).__init__()\n",
    "        self.fcn_header = SimpleFCN()\n",
    "        self.fcn_screen = SimpleFCN()\n",
    "        self.final_linear = torch.nn.Linear(20, 2)\n",
    "\n",
    "    def forward(self, X_headers, X_screens):\n",
    "        res_header = self.fcn_header(X_headers)\n",
    "        res_screen = self.fcn_screen(X_screens)\n",
    "        conc_res = torch.concat((res_header, res_screen), dim=1)\n",
    "        return self.final_linear(conc_res)"
   ]
  },
  {
   "cell_type": "markdown",
   "metadata": {},
   "source": [
    "Простой датасет, возвращающий пару картинок и метку"
   ]
  },
  {
   "cell_type": "code",
   "execution_count": 39,
   "metadata": {},
   "outputs": [],
   "source": [
    "# Simple dataset for our task\n",
    "class CustomDataset(torch.utils.data.Dataset):\n",
    "    def __init__(self , tensors):\n",
    "        super(CustomDataset, self).__init__()\n",
    "        self.tensors = tensors\n",
    "\n",
    "    def __getitem__(self, index):\n",
    "        X_header = self.tensors[0][index]  \n",
    "        X_screen = self.tensors[1][index]    \n",
    "        y = self.tensors[2][index]\n",
    "        return X_header.to(device), X_screen.to(device), y.to(device)\n",
    "\n",
    "    def __len__(self):\n",
    "        return len(self.tensors[0])"
   ]
  },
  {
   "cell_type": "markdown",
   "metadata": {},
   "source": [
    "Обучение + инициализация + чтение данных"
   ]
  },
  {
   "cell_type": "code",
   "execution_count": 40,
   "metadata": {},
   "outputs": [],
   "source": [
    "# Main train function\n",
    "def train_model(model, epochs, optima, crit, train_loader, val_loader):\n",
    "    train_losses = []\n",
    "    train_accuracies = []\n",
    "    val_losses = []\n",
    "    val_accuracies = []\n",
    "    confmat = ConfusionMatrix(num_classes=2, task=\"binary\").to(device)\n",
    "    for i in tqdm(range(epochs)):\n",
    "        batch_train_losses = []\n",
    "        batch_train_acc = []\n",
    "        train_confusion_matrix = torch.zeros((2, 2)).long().to(device)\n",
    "        for X_header, X_screen, y in train_loader:\n",
    "            \n",
    "            optima.zero_grad()\n",
    "            \n",
    "            y_pred = model(X_header, X_screen)\n",
    "            loss = crit(y_pred, y)\n",
    "            y_act = torch.nn.Sigmoid()(y_pred)\n",
    "            train_confusion_matrix += confmat(y_act, y)\n",
    "            batch_train_acc.append(((y_act.argmax(axis=1) == y).sum() / y.shape[0]).item())\n",
    "            loss.backward()\n",
    "            batch_train_losses.append(loss.item())\n",
    "            \n",
    "            optima.step()\n",
    "        batch_val_losses = []\n",
    "        batch_val_acc = []\n",
    "        val_confusion_matrix = torch.zeros((2, 2)).long().to(device)\n",
    "        with torch.no_grad():\n",
    "            for X_header, X_screen, y in val_loader:\n",
    "                y_pred = model(X_header, X_screen)\n",
    "                loss = crit(y_pred, y)\n",
    "                y_act = torch.nn.Sigmoid()(y_pred)\n",
    "                val_confusion_matrix += confmat(y_act, y)\n",
    "                batch_val_acc.append(((y_act.argmax(axis=1) == y).sum() / y.shape[0]).item())\n",
    "                batch_val_losses.append(loss.item())\n",
    "        train_accuracies.append(np.mean(batch_train_acc))\n",
    "        train_losses.append(np.mean(batch_train_losses))\n",
    "        val_accuracies.append(np.mean(batch_val_acc))\n",
    "        val_losses.append(np.mean(batch_val_losses))\n",
    "        clear_output()\n",
    "    return train_losses, val_losses"
   ]
  },
  {
   "cell_type": "code",
   "execution_count": 112,
   "metadata": {},
   "outputs": [],
   "source": [
    "# Setup model and optimizers\n",
    "model = TwoInputCNN()\n",
    "model = model.to(device)\n",
    "\n",
    "epochs = 100\n",
    "optimizer = torch.optim.Adam(model.parameters())\n",
    "loss = torch.nn.CrossEntropyLoss()"
   ]
  },
  {
   "cell_type": "code",
   "execution_count": 42,
   "metadata": {},
   "outputs": [
    {
     "name": "stderr",
     "output_type": "stream",
     "text": [
      "100%|██████████| 696/696 [00:04<00:00, 139.58it/s]\n",
      "100%|██████████| 232/232 [00:01<00:00, 137.69it/s]\n"
     ]
    }
   ],
   "source": [
    "# Read data and setup it\n",
    "X_headers_train = []\n",
    "X_screens_train = []\n",
    "y_train = np.array(score_review_train) >= config[\"y_threshold\"]\n",
    "X_headers_test = []\n",
    "X_screens_test = []\n",
    "y_test = np.array(score_review_test) >= config[\"y_threshold\"]\n",
    "for jname in tqdm(jsons_train):\n",
    "    game_name = jname.split(\"/\")[-1].split(\".json\")[0]\n",
    "    header_path = os.path.join(\"header_images\", game_name + \".jpg\")\n",
    "    screen_path = os.path.join(\"first_screens\", game_name + \".jpg\")\n",
    "    header = Image.open(header_path)\n",
    "    try:\n",
    "        screen = Image.open(screen_path)\n",
    "    except FileNotFoundError as e:\n",
    "        screen = header\n",
    "    X_headers_train.append(np.array(header.convert(\"RGB\").resize((230, 108))))\n",
    "    X_screens_train.append(np.array(screen.convert(\"RGB\").resize((300, 169))))\n",
    "for jname in tqdm(jsons_test):\n",
    "    game_name = jname.split(\"/\")[-1].split(\".json\")[0]\n",
    "    header_path = os.path.join(\"header_images\", game_name + \".jpg\")\n",
    "    screen_path = os.path.join(\"first_screens\", game_name + \".jpg\")\n",
    "    header = Image.open(header_path)\n",
    "    try:\n",
    "        screen = Image.open(screen_path)\n",
    "    except FileNotFoundError as e:\n",
    "        screen = header\n",
    "    X_headers_test.append(np.array(header.convert(\"RGB\").resize((203, 108))))\n",
    "    X_screens_test.append(np.array(screen.convert(\"RGB\").resize((300, 169))))\n",
    "\n",
    "X_headers_train = np.array(X_headers_train)\n",
    "X_headers_test = np.array(X_headers_test)\n",
    "X_screens_train = np.array(X_screens_train)\n",
    "X_screens_test = np.array(X_screens_test)"
   ]
  },
  {
   "cell_type": "code",
   "execution_count": 43,
   "metadata": {},
   "outputs": [],
   "source": [
    "# Setup dataset\n",
    "X_headers_train = torch.from_numpy(X_headers_train).float().permute(0, 3, 1, 2) / 255.\n",
    "X_screens_train = torch.from_numpy(X_screens_train).float().permute(0, 3, 1, 2) / 255.\n",
    "X_headers_test = torch.from_numpy(X_headers_test).float().permute(0, 3, 1, 2) / 255.\n",
    "X_screens_test = torch.from_numpy(X_screens_test).float().permute(0, 3, 1, 2) / 255.\n",
    "y_train = torch.from_numpy(y_train).long()\n",
    "y_test = torch.from_numpy(y_test).long()"
   ]
  },
  {
   "cell_type": "code",
   "execution_count": 44,
   "metadata": {},
   "outputs": [],
   "source": [
    "train_dataset = CustomDataset((X_headers_train, X_screens_train, y_train))\n",
    "val_dataset = CustomDataset((X_headers_test, X_screens_test, y_test))\n",
    "\n",
    "train_loader = torch.utils.data.DataLoader(train_dataset, batch_size=64)\n",
    "val_loader = torch.utils.data.DataLoader(val_dataset, batch_size=64)"
   ]
  },
  {
   "cell_type": "code",
   "execution_count": 45,
   "metadata": {},
   "outputs": [
    {
     "name": "stderr",
     "output_type": "stream",
     "text": [
      "100%|██████████| 100/100 [02:14<00:00,  1.35s/it]\n"
     ]
    },
    {
     "data": {
      "text/plain": [
       "33"
      ]
     },
     "execution_count": 45,
     "metadata": {},
     "output_type": "execute_result"
    }
   ],
   "source": [
    "# train model\n",
    "_ = train_model(model, 100, optimizer, loss, train_loader, val_loader)\n",
    "torch.cuda.empty_cache()\n",
    "gc.collect()"
   ]
  },
  {
   "cell_type": "code",
   "execution_count": 113,
   "metadata": {},
   "outputs": [
    {
     "data": {
      "text/plain": [
       "299578"
      ]
     },
     "execution_count": 113,
     "metadata": {},
     "output_type": "execute_result"
    }
   ],
   "source": [
    "def count_parameters(model):\n",
    "    return sum(p.numel() for p in model.parameters() if p.requires_grad)\n",
    "count_parameters(model)"
   ]
  },
  {
   "cell_type": "markdown",
   "metadata": {},
   "source": [
    "Получим метки для этапа 3"
   ]
  },
  {
   "cell_type": "code",
   "execution_count": 46,
   "metadata": {},
   "outputs": [],
   "source": [
    "# get predictions for catboost\n",
    "def predict(model, data_loader):\n",
    "    result = None\n",
    "    with torch.no_grad():\n",
    "        for X_header, X_screen, y in data_loader:\n",
    "            y_pred = model(X_header, X_screen)\n",
    "            if result is None:\n",
    "                result = y_pred.to(\"cpu\")\n",
    "            else:\n",
    "                result = torch.concat((result, y_pred.to(\"cpu\")))\n",
    "    return result\n",
    "\n",
    "\n",
    "train_loader_static = torch.utils.data.DataLoader(train_dataset, batch_size=64, shuffle=False)\n",
    "val_loader_static = torch.utils.data.DataLoader(val_dataset, batch_size=64, shuffle=False)\n",
    "\n",
    "preds_train = predict(model, train_loader_static)\n",
    "preds_test = predict(model, val_loader_static)"
   ]
  },
  {
   "cell_type": "code",
   "execution_count": 47,
   "metadata": {},
   "outputs": [],
   "source": [
    "image_preds_train = preds_train.numpy()\n",
    "image_preds_test = preds_test.numpy()"
   ]
  },
  {
   "cell_type": "markdown",
   "metadata": {},
   "source": [
    "#### Построим окончательное векторное представление"
   ]
  },
  {
   "cell_type": "code",
   "execution_count": 48,
   "metadata": {},
   "outputs": [],
   "source": [
    "# Get smooth or hard label\n",
    "def get_label(label):\n",
    "    if not config[\"do_soft_labels\"]:\n",
    "        return int(label >= config[\"y_threshold\"])\n",
    "    return 0.5 + (label - config[\"y_threshold\"]) / (1 - config[\"y_threshold\"]) / 2"
   ]
  },
  {
   "cell_type": "code",
   "execution_count": 67,
   "metadata": {},
   "outputs": [
    {
     "data": {
      "text/plain": [
       "((696, 474), (232, 474))"
      ]
     },
     "execution_count": 67,
     "metadata": {},
     "output_type": "execute_result"
    }
   ],
   "source": [
    "# Build final samples\n",
    "X_train, X_test = [], []\n",
    "\n",
    "for i in range(len(data_train)):\n",
    "    sample = []\n",
    "    sample += [get_label(score_review_train[i])]    # y - score-review\n",
    "    sample += [releases_dates_train[i]]             # release date\n",
    "    sample += [prices_train[i]]                     # price\n",
    "    sample += [names_len_train[i]]                  # name length\n",
    "    sample += [descriptions_len_train[i]]           # num of words in description\n",
    "    sample += [descriptions_clean_len_train[i]]     # num of words in description without stopwords\n",
    "    sample += list(image_preds_train[i])            # image outputs\n",
    "    sample += genres_train[i]                       # list of genres\n",
    "    sample += tags_train[i]                         # list of tags\n",
    "    sample += list(names_train[i])                  # game title tf-idf\n",
    "    sample += langs_train[i]                        # list of languages\n",
    "    sample += list(descriptions_train[i])           # description tf-idf\n",
    "    X_train.append(sample)\n",
    "\n",
    "for i in range(len(data_train)):\n",
    "    if not config[\"do_augment\"]:\n",
    "        break\n",
    "    sample = []\n",
    "    sample += [get_label(score_review_train[i])]    # y - score-review\n",
    "    sample += [releases_dates_train[i]]             # release date\n",
    "    sample += [prices_train[i]]                     # price\n",
    "    sample += [names_len_train[i]]                  # name length\n",
    "    sample += [descriptions_len_train[i]]           # num of words in description\n",
    "    sample += [descriptions_clean_len_train[i]]     # num of words in description without stopwords\n",
    "    sample += list(image_preds_train[i])            # image outputs\n",
    "    sample += genres_train[i]                       # list of genres\n",
    "    sample += tags_train[i]                         # list of tags\n",
    "    sample += list(names_train[i])                  # game title tf-idf\n",
    "    sample += langs_train[i]                        # list of languages\n",
    "    sample += list(new_descriptions[i])             # description tf-idf\n",
    "    X_train.append(sample)\n",
    "\n",
    "for i in range(len(data_test)):\n",
    "    sample = []\n",
    "    sample += [get_label(score_review_test[i])]\n",
    "    sample += [releases_dates_test[i]]\n",
    "    sample += [prices_test[i]]\n",
    "    sample += [names_len_test[i]]\n",
    "    sample += [descriptions_len_test[i]]\n",
    "    sample += [descriptions_clean_len_test[i]]\n",
    "    sample += list(image_preds_test[i])\n",
    "    sample += genres_test[i]\n",
    "    sample += tags_test[i]\n",
    "    sample += list(names_test[i])\n",
    "    sample += langs_test[i]\n",
    "    sample += list(descriptions_test[i])\n",
    "    X_test.append(sample)\n",
    "\n",
    "X_train = np.asarray(X_train)\n",
    "X_test = np.asarray(X_test)\n",
    "X_train.shape, X_test.shape"
   ]
  },
  {
   "cell_type": "code",
   "execution_count": 68,
   "metadata": {},
   "outputs": [
    {
     "data": {
      "text/plain": [
       "31"
      ]
     },
     "execution_count": 68,
     "metadata": {},
     "output_type": "execute_result"
    }
   ],
   "source": [
    "len(tags_test[0])"
   ]
  },
  {
   "cell_type": "code",
   "execution_count": 69,
   "metadata": {},
   "outputs": [],
   "source": [
    "# Split vector by X and y\n",
    "X_train, y_train = X_train[:, 1:], X_train[:, 0]\n",
    "X_test, y_test = X_test[:, 1:], X_test[:, 0]"
   ]
  },
  {
   "cell_type": "code",
   "execution_count": 70,
   "metadata": {},
   "outputs": [
    {
     "data": {
      "text/plain": [
       "((696, 473), (232, 473), 0.52, 0.52)"
      ]
     },
     "execution_count": 70,
     "metadata": {},
     "output_type": "execute_result"
    }
   ],
   "source": [
    "X_train.shape, X_test.shape, np.round(y_train.sum() / y_train.shape[0], 2), np.round(y_test.sum() / y_test.shape[0], 2)"
   ]
  },
  {
   "cell_type": "code",
   "execution_count": 102,
   "metadata": {},
   "outputs": [
    {
     "data": {
      "text/plain": [
       "(696, 2)"
      ]
     },
     "execution_count": 102,
     "metadata": {},
     "output_type": "execute_result"
    }
   ],
   "source": [
    "pca = PCA(2)\n",
    "res = pca.fit_transform(X_train)\n",
    "res.shape"
   ]
  },
  {
   "cell_type": "code",
   "execution_count": 108,
   "metadata": {},
   "outputs": [
    {
     "data": {
      "image/png": "[encoded data removed]",
      "text/plain": [
       "<Figure size 864x432 with 1 Axes>"
      ]
     },
     "metadata": {
      "needs_background": "light"
     },
     "output_type": "display_data"
    }
   ],
   "source": [
    "plt.figure(figsize=(12, 6))\n",
    "plt.scatter(res[:, 0], res[:, 1], c=(y_train >=0.5))\n",
    "plt.title(\"PCA сжатие\")\n",
    "plt.savefig(\"pca.png\", dpi=200, bbox_inches='tight')"
   ]
  },
  {
   "cell_type": "markdown",
   "metadata": {},
   "source": [
    "## 4. Обучение"
   ]
  },
  {
   "cell_type": "markdown",
   "metadata": {},
   "source": [
    "#### CrossEntropyLoss + catboost"
   ]
  },
  {
   "cell_type": "code",
   "execution_count": 71,
   "metadata": {},
   "outputs": [
    {
     "name": "stdout",
     "output_type": "stream",
     "text": [
      "0.9712643678160919\n",
      "0.5258620689655172\n"
     ]
    }
   ],
   "source": [
    "if not config[\"do_soft_labels\"]:\n",
    "    clf = CatBoostClassifier(iterations=1000, learning_rate=0.05, depth=3, loss_function='Logloss')\n",
    "    clf.fit(X_train, y_train)\n",
    "    clear_output()\n",
    "    print((clf.predict(X_train) == y_train).sum() / y_train.shape[0])\n",
    "    print((clf.predict(X_test) == y_test).sum() / y_test.shape[0])\n",
    "else:\n",
    "    clf = CatBoostRegressor(iterations=1000, learning_rate=0.01, depth=5)\n",
    "    clf.fit(X_train, y_train)\n",
    "    clear_output()\n",
    "    print(((clf.predict(X_train) >= 0.5) == (y_train >= 0.5)).sum() / y_train.shape[0])\n",
    "    print(((clf.predict(X_test) >= 0.5) == (y_test >= 0.5)).sum() / y_test.shape[0])"
   ]
  },
  {
   "cell_type": "markdown",
   "metadata": {},
   "source": [
    "#### ContrastiveLoss + MLP"
   ]
  },
  {
   "cell_type": "markdown",
   "metadata": {},
   "source": [
    "Будем использовать простой MLP"
   ]
  },
  {
   "cell_type": "code",
   "execution_count": 54,
   "metadata": {},
   "outputs": [],
   "source": [
    "# Setup MLP\n",
    "class SimpleMLP(torch.nn.Module):\n",
    "    def __init__(self, input_size):\n",
    "        super(SimpleMLP, self).__init__()\n",
    "        self.mlp = torch.nn.Sequential(\n",
    "            torch.nn.Linear(input_size, 300),\n",
    "            torch.nn.Dropout(0.2),\n",
    "            torch.nn.ReLU(),\n",
    "            torch.nn.Linear(300, 150),\n",
    "            torch.nn.Dropout(0.2),\n",
    "            torch.nn.ReLU(),\n",
    "            torch.nn.Linear(150, 50),\n",
    "            torch.nn.Dropout(0.2),\n",
    "            torch.nn.ReLU(),\n",
    "            torch.nn.Linear(50, 20)\n",
    "        )\n",
    "    \n",
    "    def forward(self, X):\n",
    "        return self.mlp(X)"
   ]
  },
  {
   "cell_type": "code",
   "execution_count": 55,
   "metadata": {},
   "outputs": [],
   "source": [
    "# Create custom dataset for contrastive loss\n",
    "class DatasetContrastive(torch.utils.data.Dataset):\n",
    "    def __init__(self, tensors):\n",
    "        super(DatasetContrastive, self).__init__()\n",
    "        self.tensors = tensors\n",
    "\n",
    "    def __getitem__(self, index):\n",
    "        X = self.tensors[0][index]   \n",
    "        y = self.tensors[1][index]  \n",
    "        index0 = index\n",
    "        while index0 == index:\n",
    "            index0 = np.random.randint(len(self.tensors[0]))\n",
    "        X1 = self.tensors[0][index0]\n",
    "        y1 = self.tensors[1][index0]\n",
    "        return X.to(device), X1.to(device), 2 * (y - y1).long().abs().to(device)\n",
    "\n",
    "    def __len__(self):\n",
    "        return len(self.tensors[0])"
   ]
  },
  {
   "cell_type": "markdown",
   "metadata": {},
   "source": [
    "Обучим модель"
   ]
  },
  {
   "cell_type": "code",
   "execution_count": 56,
   "metadata": {},
   "outputs": [],
   "source": [
    "X_train = torch.from_numpy(X_train).float()\n",
    "X_test = torch.from_numpy(X_test).float()\n",
    "y_train_tmp = y_train\n",
    "y_test_tmp = y_test\n",
    "y_train = torch.from_numpy(y_train >= config[\"y_threshold\"]).long()\n",
    "y_test = torch.from_numpy(y_test >= config[\"y_threshold\"]).long()"
   ]
  },
  {
   "cell_type": "code",
   "execution_count": 57,
   "metadata": {},
   "outputs": [],
   "source": [
    "train_dataset = DatasetContrastive((X_train,  y_train))\n",
    "val_dataset = DatasetContrastive((X_test, y_test))\n",
    "\n",
    "train_loader = torch.utils.data.DataLoader(train_dataset, batch_size=32)\n",
    "val_loader = torch.utils.data.DataLoader(val_dataset, batch_size=32)"
   ]
  },
  {
   "cell_type": "code",
   "execution_count": 110,
   "metadata": {},
   "outputs": [],
   "source": [
    "# Setup model and optimizers\n",
    "model = SimpleMLP(X_train.shape[1])\n",
    "model = model.to(device)\n",
    "\n",
    "epochs = 100\n",
    "optimizer = torch.optim.Adam(model.parameters())\n",
    "loss = torch.nn.CosineEmbeddingLoss()"
   ]
  },
  {
   "cell_type": "code",
   "execution_count": 59,
   "metadata": {},
   "outputs": [],
   "source": [
    "def calc_loss(sim, y):\n",
    "    return sim * y\n",
    "\n",
    "\n",
    "def train_model_contrastive_loss(model, epochs, optima, crit, train_loader, val_loader):\n",
    "    train_losses = []\n",
    "    val_losses = []\n",
    "    for i in tqdm(range(epochs)):\n",
    "        batch_train_losses = []\n",
    "        batch_train_acc = []\n",
    "        train_confusion_matrix = torch.zeros((2, 2)).long().to(device)\n",
    "        for X, X_neg, sim in train_loader:\n",
    "            \n",
    "            optima.zero_grad()\n",
    "            \n",
    "            embed1 = model(X)\n",
    "            embed2 = model(X_neg)\n",
    "            loss = crit(embed1, embed2, 2 * sim - 1)\n",
    "            loss.backward()\n",
    "            batch_train_losses.append(loss.item())\n",
    "            \n",
    "            optima.step()\n",
    "    return train_losses, val_losses"
   ]
  },
  {
   "cell_type": "code",
   "execution_count": 60,
   "metadata": {},
   "outputs": [
    {
     "name": "stderr",
     "output_type": "stream",
     "text": [
      "100%|██████████| 100/100 [00:14<00:00,  6.91it/s]\n"
     ]
    }
   ],
   "source": [
    "_ = train_model_contrastive_loss(model, epochs, optimizer, loss, train_loader, val_loader)"
   ]
  },
  {
   "cell_type": "markdown",
   "metadata": {},
   "source": [
    "Посмотрим на результаты"
   ]
  },
  {
   "cell_type": "code",
   "execution_count": 61,
   "metadata": {},
   "outputs": [],
   "source": [
    "# get predictions for catboost\n",
    "def predict(model, data_loader):\n",
    "    result = None\n",
    "    with torch.no_grad():\n",
    "        for X, X_neg, sim in data_loader:\n",
    "            y_pred = model(X)\n",
    "            if result is None:\n",
    "                result = y_pred.to(\"cpu\")\n",
    "            else:\n",
    "                result = torch.concat((result, y_pred.to(\"cpu\")))\n",
    "    return result\n",
    "\n",
    "\n",
    "train_loader_static = torch.utils.data.DataLoader(train_dataset, batch_size=64, shuffle=False)\n",
    "val_loader_static = torch.utils.data.DataLoader(val_dataset, batch_size=64, shuffle=False)\n",
    "\n",
    "preds_train = predict(model, train_loader_static)\n",
    "preds_test = predict(model, val_loader_static)"
   ]
  },
  {
   "cell_type": "code",
   "execution_count": 62,
   "metadata": {},
   "outputs": [],
   "source": [
    "preds_train = preds_train.numpy()\n",
    "preds_test = preds_test.numpy()\n",
    "y_train = y_train_tmp\n",
    "y_test = y_test_tmp"
   ]
  },
  {
   "cell_type": "code",
   "execution_count": 63,
   "metadata": {},
   "outputs": [
    {
     "name": "stdout",
     "output_type": "stream",
     "text": [
      "0.5933908045977011\n",
      "0.5431034482758621\n"
     ]
    }
   ],
   "source": [
    "if not config[\"do_soft_labels\"]:\n",
    "    knn = KNeighborsClassifier(15)\n",
    "    knn.fit(X_train, y_train)\n",
    "    clear_output()\n",
    "    print((knn.predict(X_train) == y_train).sum() / y_train.shape[0])\n",
    "    print((knn.predict(X_test) == y_test).sum() / y_test.shape[0])\n",
    "else:\n",
    "    knn = KNeighborsRegressor(15)\n",
    "    knn.fit(X_train, y_train)\n",
    "    clear_output()\n",
    "    print(((knn.predict(X_train) >= 0.5) == (y_train >= 0.5)).sum() / y_train.shape[0])\n",
    "    print(((knn.predict(X_test) >= 0.5) == (y_test >= 0.5)).sum() / y_test.shape[0])"
   ]
  },
  {
   "cell_type": "code",
   "execution_count": null,
   "metadata": {},
   "outputs": [],
   "source": []
  }
 ],
 "metadata": {
  "kernelspec": {
   "display_name": "Python 3.9.7 ('torch')",
   "language": "python",
   "name": "python3"
  },
  "language_info": {
   "codemirror_mode": {
    "name": "ipython",
    "version": 3
   },
   "file_extension": ".py",
   "mimetype": "text/x-python",
   "name": "python",
   "nbconvert_exporter": "python",
   "pygments_lexer": "ipython3",
   "version": "3.9.7"
  },
  "orig_nbformat": 4,
  "vscode": {
   "interpreter": {
    "hash": "e5f96657305825d8e251ba7d2b04be8543b5811ffb30520c9bcedd16a5b039e1"
   }
  }
 },
 "nbformat": 4,
 "nbformat_minor": 2
}
